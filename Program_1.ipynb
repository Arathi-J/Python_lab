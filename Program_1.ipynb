{
  "cells": [
    {
      "cell_type": "markdown",
      "metadata": {
        "id": "view-in-github",
        "colab_type": "text"
      },
      "source": [
        "<a href=\"https://colab.research.google.com/github/Arathi-J/Python_lab/blob/main/Program_1.ipynb\" target=\"_parent\"><img src=\"https://colab.research.google.com/assets/colab-badge.svg\" alt=\"Open In Colab\"/></a>"
      ]
    },
    {
      "cell_type": "code",
      "execution_count": null,
      "metadata": {
        "colab": {
          "base_uri": "https://localhost:8080/"
        },
        "id": "f9LFe9oOzvhR",
        "outputId": "b45801ee-944a-41ae-a4f2-bb9fad607c48"
      },
      "outputs": [
        {
          "name": "stdout",
          "output_type": "stream",
          "text": [
            "Welcome to MITS\n"
          ]
        }
      ],
      "source": [
        "# Write a program to display the message \"Welcome to MITS\"\n",
        "print ( \"Welcome to MITS\" )"
      ]
    },
    {
      "cell_type": "code",
      "source": [],
      "metadata": {
        "id": "IbvirG587kWv"
      },
      "execution_count": null,
      "outputs": []
    },
    {
      "cell_type": "code",
      "execution_count": null,
      "metadata": {
        "colab": {
          "base_uri": "https://localhost:8080/"
        },
        "id": "c4t_tnh_1_r3",
        "outputId": "9ec9ef63-6c07-4a44-fdca-0a360b54f1b3"
      },
      "outputs": [
        {
          "name": "stdout",
          "output_type": "stream",
          "text": [
            "Muthoot institute of technology and science\n",
            "Varikoli\n",
            "Puthankuriz\n"
          ]
        }
      ],
      "source": [
        "# Write a program to display the message\n",
        " #Muthoot institute of technology and science\n",
        " #Varikoli\n",
        " #Puthankuriz\n",
        "\n",
        "print(\"Muthoot institute of technology and science\\nVarikoli\\nPuthankuriz\")\n"
      ]
    },
    {
      "cell_type": "code",
      "execution_count": null,
      "metadata": {
        "colab": {
          "base_uri": "https://localhost:8080/"
        },
        "id": "bYp-FJ3V3ztk",
        "outputId": "ea904a96-af08-47e7-b269-e25ee43941a7"
      },
      "outputs": [
        {
          "name": "stdout",
          "output_type": "stream",
          "text": [
            "Muthoot institute of technology and science\n",
            "Varikoli\n",
            "Puthankuriz\n"
          ]
        }
      ],
      "source": [
        "print(\"\"\"Muthoot institute of technology and science\n",
        "Varikoli\n",
        "Puthankuriz\"\"\")"
      ]
    },
    {
      "cell_type": "code",
      "execution_count": null,
      "metadata": {
        "colab": {
          "base_uri": "https://localhost:8080/"
        },
        "id": "-Reeu7V15ICn",
        "outputId": "a2c2b4ef-4d74-4956-8d23-73313ee0402f"
      },
      "outputs": [
        {
          "name": "stdout",
          "output_type": "stream",
          "text": [
            "x = 5\n",
            "y = 10\n",
            "x+y 15\n"
          ]
        }
      ],
      "source": [
        "#Write a program to asign values 5 to x and 10 to y and print the same.\n",
        "#print x+y\n",
        "x=5\n",
        "y=10\n",
        "print(\"x =\",x)\n",
        "print(\"y =\",y)\n",
        "print(\"x+y\",x+y)\n",
        "\n"
      ]
    },
    {
      "cell_type": "code",
      "execution_count": null,
      "metadata": {
        "colab": {
          "base_uri": "https://localhost:8080/"
        },
        "id": "AsRRDejF6KQ4",
        "outputId": "df1c1aa7-3456-49c7-b022-7d6d027f8303"
      },
      "outputs": [
        {
          "name": "stdout",
          "output_type": "stream",
          "text": [
            "Enter first number\t8\n",
            "Enter second number\t4\n",
            "a+b = 12 \n",
            "a-b = 4 \n",
            "a/b = 2.0\n"
          ]
        }
      ],
      "source": [
        "# write a program to input 2 numbers. And find sum,different and product.\n",
        "a=int(input(\"Enter first number\\t\"))\n",
        "b=int(input(\"Enter second number\\t\"))\n",
        "print(\"a+b =\",a+b, \"\\na-b =\",a-b,\"\\na/b =\",a/b)\n"
      ]
    },
    {
      "cell_type": "code",
      "execution_count": null,
      "metadata": {
        "colab": {
          "base_uri": "https://localhost:8080/"
        },
        "id": "A6sePt91BRwX",
        "outputId": "afb6a949-f605-413c-e4fc-b4c755334679"
      },
      "outputs": [
        {
          "name": "stdout",
          "output_type": "stream",
          "text": [
            "Enter a number : 46\n",
            "n is grater than 10\n"
          ]
        }
      ],
      "source": [
        "#write a program to input a number if the number is grater than 10 display appropriate message.\n",
        "n=int(input(\"Enter a number : \"))\n",
        "if(n>10):\n",
        "  print(\"n is grater than 10\")\n",
        "else:\n",
        "  print(\"n is less than 10\")\n"
      ]
    },
    {
      "cell_type": "code",
      "execution_count": null,
      "metadata": {
        "colab": {
          "base_uri": "https://localhost:8080/"
        },
        "id": "Xux3wdNSCAxu",
        "outputId": "7b82e9b5-064d-48b9-e32c-a9876c8db26c"
      },
      "outputs": [
        {
          "name": "stdout",
          "output_type": "stream",
          "text": [
            "Enter your age : 21\n",
            "You are eligible to vote\n"
          ]
        }
      ],
      "source": [
        "#write a program to input the age of a person, check whether the person is eligible to vote and display appropriate message.\n",
        "age=int(input(\"Enter your age : \"))\n",
        "if(age>=18):\n",
        "  print(\"You are eligible to vote\")\n",
        "else:\n",
        "  print(\"You are not eligible to vote\")"
      ]
    },
    {
      "cell_type": "code",
      "execution_count": null,
      "metadata": {
        "colab": {
          "base_uri": "https://localhost:8080/"
        },
        "id": "z6EANfAtCP8u",
        "outputId": "9fabeea8-821e-4be2-9225-895ce9d39f34"
      },
      "outputs": [
        {
          "name": "stdout",
          "output_type": "stream",
          "text": [
            "Enter the first number : 6\n",
            "Enter the second number : 8\n",
            "8 is larger  than 6\n"
          ]
        }
      ],
      "source": [
        "#write a program to input 2 numbers, find the largest of 2 numbers.\n",
        "a=int(input(\"Enter the first number : \"))\n",
        "b=int(input(\"Enter the second number : \"))\n",
        "if(a==b):\n",
        "  print(\"Both the numbers are equal\")\n",
        "elif(a>b):\n",
        "  print(a,\"is larger  than\",b)\n",
        "else:\n",
        "  print(b,\"is larger  than\",a)"
      ]
    },
    {
      "cell_type": "code",
      "execution_count": null,
      "metadata": {
        "colab": {
          "base_uri": "https://localhost:8080/"
        },
        "id": "CewSV1PSCZHN",
        "outputId": "5105c9c3-099b-4e89-a473-9e1ac601c551"
      },
      "outputs": [
        {
          "name": "stdout",
          "output_type": "stream",
          "text": [
            "Enter a number64\n",
            "64 is an even number\n"
          ]
        }
      ],
      "source": [
        "#write a program to input a number check whether the number is odd or even.\n",
        "n=int(input(\"Enter a number\"))\n",
        "if(n%2==0):\n",
        "  print(n,\"is an even number\")\n",
        "else:\n",
        "  print(n,\"is an odd number\")"
      ]
    },
    {
      "cell_type": "code",
      "execution_count": null,
      "metadata": {
        "colab": {
          "base_uri": "https://localhost:8080/"
        },
        "id": "ZNM_RWqqCigl",
        "outputId": "3593d561-55a0-4104-e9cc-f10c342f5629"
      },
      "outputs": [
        {
          "name": "stdout",
          "output_type": "stream",
          "text": [
            "Enter the first number : 5\n",
            "Enter the second number : 2\n",
            "Sum is less than 10 which is  7\n"
          ]
        }
      ],
      "source": [
        "#write a program to input 2 numbers, find their sum, display appropriate message if the sum is grater than 10.\n",
        "a=int(input(\"Enter the first number : \"))\n",
        "b=int(input(\"Enter the second number : \"))\n",
        "s=a+b\n",
        "if(s>10):\n",
        "  print(\"Sum is grater than 10 which is \",s)\n",
        "else:\n",
        "  print(\"Sum is less than 10 which is \",s)"
      ]
    },
    {
      "cell_type": "code",
      "execution_count": null,
      "metadata": {
        "colab": {
          "base_uri": "https://localhost:8080/"
        },
        "id": "OAdGYCDWCt4e",
        "outputId": "fc650175-253a-43a9-8d50-7568288cefb7"
      },
      "outputs": [
        {
          "name": "stdout",
          "output_type": "stream",
          "text": [
            "Enter the first number : 53\n",
            "Enter the second number : 08\n",
            "Enter the third number : 36\n",
            "53 is the largest number\n"
          ]
        }
      ],
      "source": [
        "#Find the largest of 3 numbers.\n",
        "a=int(input(\"Enter the first number : \"))\n",
        "b=int(input(\"Enter the second number : \"))\n",
        "c=int(input(\"Enter the third number : \"))\n",
        "if(a==b and b==c):\n",
        "  print(\"All the numbers are equal\")\n",
        "elif(a>b and a>c):\n",
        "  print(a,\"is the largest number\")\n",
        "elif(b>a and b>c):\n",
        "  print(b,\"is the largest number\")\n",
        "else:\n",
        "  print(c,\"is the largest number\")"
      ]
    },
    {
      "cell_type": "code",
      "execution_count": null,
      "metadata": {
        "colab": {
          "base_uri": "https://localhost:8080/"
        },
        "id": "XotlCX6C41Pk",
        "outputId": "c3e3b61e-f977-4025-b3fd-29003f4c94dd"
      },
      "outputs": [
        {
          "name": "stdout",
          "output_type": "stream",
          "text": [
            "Mary's notebook is white in color\n"
          ]
        }
      ],
      "source": [
        "#Write program to print \"Mary's notebook is white in color\"\n",
        "print(\"Mary's notebook is white in color\")"
      ]
    },
    {
      "cell_type": "code",
      "execution_count": null,
      "metadata": {
        "id": "dSRzbeJMLPEF"
      },
      "outputs": [],
      "source": [
        "#write a program to display the first n natural numbers.\n",
        "n= int ( input ( \"Enter the value of n\" ) ))"
      ]
    },
    {
      "cell_type": "code",
      "execution_count": null,
      "metadata": {
        "id": "B9Kza2gXLYHU"
      },
      "outputs": [],
      "source": [
        "#write a program to display the first N even numbers"
      ]
    },
    {
      "cell_type": "code",
      "execution_count": null,
      "metadata": {
        "colab": {
          "base_uri": "https://localhost:8080/"
        },
        "id": "hDJBIau1MVHw",
        "outputId": "2ad4728d-f0be-4d53-9f2e-0aa889e36fd1"
      },
      "outputs": [
        {
          "name": "stdout",
          "output_type": "stream",
          "text": [
            "0\n",
            "1\n",
            "2\n",
            "3\n",
            "4\n",
            "5\n",
            "6\n",
            "7\n",
            "8\n",
            "9\n"
          ]
        }
      ],
      "source": []
    },
    {
      "cell_type": "code",
      "execution_count": null,
      "metadata": {
        "colab": {
          "base_uri": "https://localhost:8080/"
        },
        "id": "uurPslJiLhP0",
        "outputId": "11a99dd6-934d-4503-c89e-e7941a6aab57"
      },
      "outputs": [
        {
          "name": "stdout",
          "output_type": "stream",
          "text": [
            "Enter the value of n 21\n",
            "0\n",
            "2\n",
            "4\n",
            "6\n",
            "8\n"
          ]
        }
      ],
      "source": [
        "#write a program to display N even numbers upto 10\n",
        "n=int(input(\"Enter the value of n \"))\n",
        "for i in range(10):\n",
        "  if(i%2==0):\n",
        "    print(i)\n"
      ]
    },
    {
      "cell_type": "code",
      "execution_count": null,
      "metadata": {
        "id": "-m52xJmBQVSi"
      },
      "outputs": [],
      "source": [
        "# 1. Program to find the factorial of a number\n"
      ]
    },
    {
      "cell_type": "markdown",
      "metadata": {
        "id": "r-Ua-3HzByIE"
      },
      "source": [
        "**CO1**\n",
        "```\n",
        "\n"
      ]
    },
    {
      "cell_type": "code",
      "execution_count": null,
      "metadata": {
        "colab": {
          "base_uri": "https://localhost:8080/"
        },
        "id": "1zir6_g2Bq4T",
        "outputId": "bd36ad2a-5216-4e68-874f-18afd0ccecf8"
      },
      "outputs": [
        {
          "name": "stdout",
          "output_type": "stream",
          "text": [
            "Enter an limit: 2040\n",
            "2024\n",
            "2028\n",
            "2032\n",
            "2036\n"
          ]
        }
      ],
      "source": [
        "# 2. Display future leap years from current year to a final year entered by user.\n",
        "l=int(input(\"Enter the limit: \"))\n",
        "for i in range(2023,l):\n",
        "  if(i%4==0 and i%100!= 0 or i%400==0):\n",
        "    print(i)\n"
      ]
    },
    {
      "cell_type": "code",
      "execution_count": null,
      "metadata": {
        "colab": {
          "base_uri": "https://localhost:8080/"
        },
        "id": "mrv90r15M4In",
        "outputId": "69884412-12ee-41d4-d998-f832d9a4837d"
      },
      "outputs": [
        {
          "name": "stdout",
          "output_type": "stream",
          "text": [
            "[3, 9, 5, 7]\n"
          ]
        }
      ],
      "source": [
        "#3.List comprehensions:\n",
        "#a).Generate positive list of numbers from a given list of integers\n",
        "\n",
        "\n",
        "\n",
        "list=[-1,3,-4,-3,9,5,7,-5]\n",
        "print([i for i in list if i>0])\n"
      ]
    },
    {
      "cell_type": "code",
      "execution_count": null,
      "metadata": {
        "colab": {
          "base_uri": "https://localhost:8080/"
        },
        "id": "a3HxuEJrOjMJ",
        "outputId": "ae2095cb-1879-4b48-8350-1e4b07945a57"
      },
      "outputs": [
        {
          "name": "stdout",
          "output_type": "stream",
          "text": [
            "square of the list = [1, 25, 16, 49, 81]\n"
          ]
        }
      ],
      "source": [
        "#b). Square of N numbers\n",
        "li=[1,5,4,7,9]\n",
        "l=[i**2 for i in li]\n",
        "print('square of the list =',l)"
      ]
    },
    {
      "cell_type": "code",
      "execution_count": null,
      "metadata": {
        "colab": {
          "base_uri": "https://localhost:8080/"
        },
        "id": "g1FvM0bHRzEX",
        "outputId": "b1e88215-1be3-4d80-bb35-803ea2b777ad"
      },
      "outputs": [
        {
          "name": "stdout",
          "output_type": "stream",
          "text": [
            "Enter a word :CONSUME\n",
            "['O', 'U', 'E']\n"
          ]
        }
      ],
      "source": [
        "#c). Form a list of vowels selected from a given word\n",
        "a=input(\"Enter a word :\")\n",
        "print([i for i in a if i in 'aeiouAEIOU'])"
      ]
    },
    {
      "cell_type": "code",
      "execution_count": null,
      "metadata": {
        "colab": {
          "base_uri": "https://localhost:8080/"
        },
        "id": "dt-LfYj3T5l6",
        "outputId": "b8a8777b-5f51-4c5f-bc08-fef288c11241"
      },
      "outputs": [
        {
          "name": "stdout",
          "output_type": "stream",
          "text": [
            "Enter a word : ABCD\n",
            "[65, 66, 67, 68]\n"
          ]
        }
      ],
      "source": [
        "#d). List ordinal value of each element of a word (Hint: use ord() to get ordinal values)\n",
        "a=input('Enter a word : ')\n",
        "print([ord(i) for i in a])"
      ]
    },
    {
      "cell_type": "code",
      "execution_count": null,
      "metadata": {
        "colab": {
          "base_uri": "https://localhost:8080/"
        },
        "id": "rt0QAm9LUK00",
        "outputId": "80996ddd-4df5-4044-ec63-0c30cbfeb687"
      },
      "outputs": [
        {
          "name": "stdout",
          "output_type": "stream",
          "text": [
            "Enter a sentance :hello how are you hello\n",
            "['hello', 'how', 'are', 'you', 'hello']\n",
            "hello occurs 2 times\n",
            "how occurs 1 times\n",
            "are occurs 1 times\n",
            "you occurs 1 times\n",
            "hello occurs 2 times\n"
          ]
        }
      ],
      "source": [
        "# 4. Count the occurrences of each word in a line of text\n",
        "se=input(\"Enter a sentance :\")\n",
        "words=se.split()\n",
        "print(words)\n",
        "for i in words:\n",
        "  print(i,'occurs', se.count(i),'times')"
      ]
    },
    {
      "cell_type": "code",
      "execution_count": null,
      "metadata": {
        "colab": {
          "base_uri": "https://localhost:8080/"
        },
        "id": "Lw8xB2fhU5mO",
        "outputId": "97a33d60-5ada-4529-df56-55cfe5a06262"
      },
      "outputs": [
        {
          "name": "stdout",
          "output_type": "stream",
          "text": [
            "How many values you want to enter to the list:5\n",
            "Enter the values:\n",
            "13\n",
            "567\n",
            "254\n",
            "100\n",
            "23\n",
            "[13, 'over', 'over', 100, 23]\n"
          ]
        }
      ],
      "source": [
        "#5. Prompt the user for a list of integers. For all values greater than 100, store ‘over’ instead.\n",
        "a=[]\n",
        "n=int(input('How many values you want to enter to the list:'))\n",
        "print('Enter the values:')\n",
        "for i in range(n):\n",
        "  x=int(input())\n",
        "  if x>100:\n",
        "    a.append('over')\n",
        "  else:\n",
        "    a.append(x)\n",
        "print(a)\n",
        "\n"
      ]
    },
    {
      "cell_type": "code",
      "execution_count": null,
      "metadata": {
        "colab": {
          "base_uri": "https://localhost:8080/"
        },
        "id": "DLaqsdgRtOkN",
        "outputId": "99a6294c-6e0f-420a-cd5c-196247d9b417"
      },
      "outputs": [
        {
          "name": "stdout",
          "output_type": "stream",
          "text": [
            "How many elements in the list:3\n",
            "Enter first names:\n",
            "aaranya\n",
            "arathi\n",
            "anu\n",
            "['aaranya', 'arathi', 'anu']\n",
            "\n",
            "\n",
            "aaranya = 4 times\n",
            "arathi = 2 times\n",
            "anu = 1 times\n"
          ]
        }
      ],
      "source": [
        "# 6. Store a list of first names. Count the occurrences of ‘a’ within the list\n",
        "a=[]\n",
        "n=int(input('How many elements in the list:'))\n",
        "print('Enter first names:')\n",
        "for i in range(n):\n",
        "  x=input()\n",
        "  a.append(x)\n",
        "print(a)\n",
        "print('\\n')\n",
        "for i in a:\n",
        "  print(i,'=',i.count('a'),'times')"
      ]
    },
    {
      "cell_type": "code",
      "execution_count": null,
      "metadata": {
        "colab": {
          "base_uri": "https://localhost:8080/"
        },
        "id": "je6v8AlywD6I",
        "outputId": "d67375a1-f6cd-4fa7-a25a-b1741db54a08"
      },
      "outputs": [
        {
          "name": "stdout",
          "output_type": "stream",
          "text": [
            "Enter 2 lists of integers. Check \n",
            "(a) Whether list are of same length\n",
            "(b) whether list sums to same value\n",
            "(c) whether any value occur in both\n",
            "(d) Exit\n",
            " \n",
            "How many elements in the first list:4\n",
            "Enter the elements:\n",
            "1\n",
            "5\n",
            "2\n",
            "7\n",
            "How many elements in the second list:4\n",
            "Enter the elements:\n",
            "2\n",
            "8\n",
            "9\n",
            "3\n",
            "a= [1, 5, 2, 7]\n",
            "b= [2, 8, 9, 3] \n",
            "\n",
            "which question you want to do:a\n",
            "Length of 2 lists are same\n",
            "which question you want to do:b\n",
            "15\n",
            "22\n",
            "Both list sums to different values\n",
            "which question you want to do:c\n",
            "2 is common in both lists\n",
            "which question you want to do:p\n",
            "Invalid input\n",
            "which question you want to do:d\n",
            "Thank You\n"
          ]
        }
      ],
      "source": [
        "# 7. Enter 2 lists of integers. Check\n",
        "#   (a) Whether list are of same length\n",
        "#   (b) whether list sums to same value\n",
        "#   (c) whether any value occur in both\n",
        "print(\"Enter 2 lists of integers. Check \\n(a) Whether list are of same length\\n(b) whether list sums to same value\\n(c) whether any value occur in both\\n(d) Exit\\n \")\n",
        "#first list\n",
        "a=[]\n",
        "n=int(input('How many elements in the first list:'))\n",
        "print('Enter the elements:')\n",
        "for i in range(n):\n",
        "  x=int(input())\n",
        "  a.append(x)\n",
        "#second list\n",
        "b=[]\n",
        "n=int(input('How many elements in the second list:'))\n",
        "print('Enter the elements:')\n",
        "for i in range(n):\n",
        "  x=int(input())\n",
        "  b.append(x)\n",
        "print('a=',a)\n",
        "print('b=',b,'\\n')\n",
        "ch=0\n",
        "while ch==0:\n",
        "  op=input('which question you want to do:')\n",
        "\n",
        "  # (a) Whether list are of same length\n",
        "  if op=='a':\n",
        "    if len(a)==len(b):\n",
        "      print('Length of 2 lists are same')\n",
        "    else:\n",
        "      print('Length of 2 lists are different')\n",
        "  # (b) whether list sums to same value\n",
        "  elif op=='b':\n",
        "    sum1=0\n",
        "    sum2=0\n",
        "    for i in a:\n",
        "      sum1=sum1+i\n",
        "    for i in b:\n",
        "      sum2=sum2+i\n",
        "    print(sum1)\n",
        "    print(sum2)\n",
        "    if sum1==sum2:\n",
        "      print('Both list sums to same values')\n",
        "    else:\n",
        "      print('Both list sums to different values')\n",
        "  # (c) whether any value occur in both\n",
        "  elif op=='c':\n",
        "    for i in a:\n",
        "      for j in b:\n",
        "        if i==j:\n",
        "          print(i,\"is common in both lists\")\n",
        "  elif op=='d':\n",
        "    ch=1\n",
        "    print('Thank You')\n",
        "  else:\n",
        "    print(\"Invalid input\")\n",
        "\n",
        "\n"
      ]
    },
    {
      "cell_type": "code",
      "execution_count": null,
      "metadata": {
        "colab": {
          "base_uri": "https://localhost:8080/"
        },
        "id": "r01lX0TNvmef",
        "outputId": "e740d160-8785-4edd-fa2e-f0b5ed3cce3e"
      },
      "outputs": [
        {
          "name": "stdout",
          "output_type": "stream",
          "text": [
            "Enter a word :hahaha\n",
            "ha$a$a\n"
          ]
        }
      ],
      "source": [
        "# 8) Get a string from an input string where all occurrences of first character replaced with ‘$’, except first character.\n",
        "#[eg: onion -> oni$n]\n",
        "\n",
        "a=input(\"Enter a word :\")\n",
        "s=a[0]\n",
        "a=a.replace(s,'$')\n",
        "print(s+a[1:])\n",
        "\n",
        "\n"
      ]
    },
    {
      "cell_type": "code",
      "execution_count": null,
      "metadata": {
        "colab": {
          "base_uri": "https://localhost:8080/",
          "height": 53
        },
        "id": "v__POFiYuGcm",
        "outputId": "2835ae2f-8f83-40b9-fc4f-d6c552ac9fe2"
      },
      "outputs": [
        {
          "name": "stdout",
          "output_type": "stream",
          "text": [
            "Enter a strinng : python\n"
          ]
        },
        {
          "data": {
            "application/vnd.google.colaboratory.intrinsic+json": {
              "type": "string"
            },
            "text/plain": [
              "'nythop'"
            ]
          },
          "execution_count": 10,
          "metadata": {},
          "output_type": "execute_result"
        }
      ],
      "source": [
        "#9.\tCreate a string from given string where first and last characters exchanged.  [eg: python -\n",
        "#   > nythop]\n",
        "st=input(\"Enter a strinng : \")\n",
        "st[-1]+st[1:-1]+st[0]"
      ]
    },
    {
      "cell_type": "code",
      "execution_count": null,
      "metadata": {
        "colab": {
          "base_uri": "https://localhost:8080/",
          "height": 35
        },
        "id": "TzfXWqxy1fvt",
        "outputId": "6d2aca09-6a58-45dc-d518-2698b72572d9"
      },
      "outputs": [
        {
          "data": {
            "application/vnd.google.colaboratory.intrinsic+json": {
              "type": "string"
            },
            "text/plain": [
              "'iratha'"
            ]
          },
          "execution_count": 8,
          "metadata": {},
          "output_type": "execute_result"
        }
      ],
      "source": [
        "name='arathi'\n",
        "(name[-1])\n",
        "\n",
        "name[-1]+name[1:-1]+name[0]\n"
      ]
    },
    {
      "cell_type": "code",
      "execution_count": null,
      "metadata": {
        "id": "AUOur6EcSbLE"
      },
      "outputs": [],
      "source": [
        "n=4\n",
        "for i in range(n-1,0,-1):\n",
        "  print('*'*i)"
      ]
    },
    {
      "cell_type": "code",
      "execution_count": null,
      "metadata": {
        "colab": {
          "base_uri": "https://localhost:8080/"
        },
        "id": "_acx9ezOKnwF",
        "outputId": "d3107e0b-b043-4709-bea7-8bfcb34c84d2"
      },
      "outputs": [
        {
          "name": "stdout",
          "output_type": "stream",
          "text": [
            "Enter the radius6\n",
            "Area=  113.04\n"
          ]
        }
      ],
      "source": [
        "# 10. Accept the radius from user and find area of circle.\n",
        "r=int(input(\"Enter the radius\"))\n",
        "area=3.14*(r**2)\n",
        "print(\"Area= \",area)"
      ]
    },
    {
      "cell_type": "code",
      "execution_count": null,
      "metadata": {
        "colab": {
          "base_uri": "https://localhost:8080/"
        },
        "id": "jjTMB1jGMq2O",
        "outputId": "9cf9f0ef-5d01-425e-a827-25e72c682194"
      },
      "outputs": [
        {
          "name": "stdout",
          "output_type": "stream",
          "text": [
            "Enter an first number54\n",
            "Enter an first number3\n",
            "Enter an first number87\n",
            "87\n"
          ]
        }
      ],
      "source": [
        "# 11. Find biggest of 3 numbers entered.\n",
        "n1=int(input(\"Enter an first number\"))\n",
        "n2=int(input(\"Enter an first number\"))\n",
        "n3=int(input(\"Enter an first number\"))\n",
        "if n1>n2 and n1>n3:\n",
        "  print(\"Biggest number= \",n1)\n",
        "elif n2>n1 and n2>n3:\n",
        "  print(\"Biggest number= \",n2)\n",
        "else:\n",
        "  print(n3)\n"
      ]
    },
    {
      "cell_type": "code",
      "execution_count": null,
      "metadata": {
        "colab": {
          "base_uri": "https://localhost:8080/"
        },
        "id": "1mKqJ4pjiB0Z",
        "outputId": "130ebf06-f7b5-4877-8317-825f014f06cd"
      },
      "outputs": [
        {
          "name": "stdout",
          "output_type": "stream",
          "text": [
            "Enter a filenameabc.py\n",
            "['abc', 'py']\n",
            "py\n"
          ]
        }
      ],
      "source": [
        "f_name=input(\"Enter a filename\")\n",
        "f_ext=f_name.split(\".\")\n",
        "print(f_ext)\n",
        "print(f_ext[-1])"
      ]
    },
    {
      "cell_type": "code",
      "execution_count": null,
      "metadata": {
        "colab": {
          "base_uri": "https://localhost:8080/"
        },
        "id": "TxOSsZ8zf5kK",
        "outputId": "cb7b86fd-3b53-4abb-c49f-dfdaa3172b41"
      },
      "outputs": [
        {
          "name": "stdout",
          "output_type": "stream",
          "text": [
            "Enter the file name with extension: abc.py\n",
            "py\n"
          ]
        }
      ],
      "source": [
        "#12. Accept a file name from user and print extension of that.\n",
        "file=input(\"Enter the file name with extension: \")\n",
        "x=0\n",
        "for i in file:\n",
        "  x+=1\n",
        "  if i=='.':\n",
        "    print(file[x:])"
      ]
    },
    {
      "cell_type": "code",
      "execution_count": null,
      "metadata": {
        "colab": {
          "base_uri": "https://localhost:8080/"
        },
        "id": "ORl2-Anu7gF9",
        "outputId": "38971702-3551-4514-aa4e-d34220afa4a0"
      },
      "outputs": [
        {
          "name": "stdout",
          "output_type": "stream",
          "text": [
            "Enter comma-separated color names: black,orange,ross,white\n",
            "First color: black\n",
            "Last color: white\n"
          ]
        }
      ],
      "source": [
        "#13.\tCreate a list of colors from comma-separated color names entered by user. Display first and last colors.\n",
        "# Get comma-separated color names from the user\n",
        "color_input = input(\"Enter comma-separated color names: \")\n",
        "\n",
        "# Split the input into a list of colors\n",
        "colors = color_input.split(\",\")\n",
        "\n",
        "# Remove leading and trailing spaces from each color name\n",
        "colors = [color.strip() for color in colors]\n",
        "\n",
        "# Check if at least two colors were entered\n",
        "if len(colors) < 2:\n",
        "    print(\"Please enter at least two color names.\")\n",
        "else:\n",
        "    # Display the first and last colors\n",
        "    print(\"First color:\", colors[0])\n",
        "    print(\"Last color:\", colors[-1])"
      ]
    },
    {
      "cell_type": "code",
      "execution_count": null,
      "metadata": {
        "colab": {
          "base_uri": "https://localhost:8080/"
        },
        "id": "JQEyhB_r8iQr",
        "outputId": "92e9583c-acd9-45af-8836-4d3056c98f50"
      },
      "outputs": [
        {
          "name": "stdout",
          "output_type": "stream",
          "text": [
            "Enter a number : 5\n",
            "5 + 5 5 + 5 5 5 =  615\n"
          ]
        }
      ],
      "source": [
        "#14.\tAccept an integer n and compute n+nn+nnn.\n",
        "n=int(input(\"Enter a number : \"))\n",
        "print(n,'+',n,n,'+',n,n,n ,'= ',n+n*11+n*111)"
      ]
    },
    {
      "cell_type": "code",
      "execution_count": null,
      "metadata": {
        "colab": {
          "base_uri": "https://localhost:8080/"
        },
        "id": "YDfbAzkp-YTK",
        "outputId": "820625e9-194c-49f7-a189-212a9094228d"
      },
      "outputs": [
        {
          "name": "stdout",
          "output_type": "stream",
          "text": [
            "Original set elements:\n",
            "{'Red', 'Black', 'White'}\n",
            "{'Green', 'Red'}\n",
            "\n",
            "Difference of color_list_1 and color_list_2:\n",
            "{'Black', 'White'}\n"
          ]
        }
      ],
      "source": [
        "#15.\tPrint out all colors from color-list1 not contained in color-list2.\n",
        "color_list_1 = set([\"White\", \"Black\", \"Red\"])\n",
        "color_list_2 = set([\"Red\", \"Green\"])\n",
        "print(\"Original set elements:\")\n",
        "print(color_list_1)\n",
        "print(color_list_2)\n",
        "print(\"\\nDifference of color_list_1 and color_list_2:\")\n",
        "print(color_list_1.difference(color_list_2))\n"
      ]
    },
    {
      "cell_type": "code",
      "execution_count": null,
      "metadata": {
        "colab": {
          "base_uri": "https://localhost:8080/"
        },
        "id": "cnJCdki__dra",
        "outputId": "6f40b0ff-d9c8-4cb4-f79a-345c4d9889f7"
      },
      "outputs": [
        {
          "name": "stdout",
          "output_type": "stream",
          "text": [
            "Enter string 1 : hello\n",
            "Enter string 2 : wow\n",
            "Swapped string : wello how\n"
          ]
        }
      ],
      "source": [
        "#16.\tCreate a single string separated with space from two strings by swapping the character at position 1.\n",
        "s1=input(\"Enter string 1 : \")\n",
        "s2=input(\"Enter string 2 : \")\n",
        "s3=s2[0]+s1[1:]+\" \"+s1[0]+s2[1:]\n",
        "print(\"Swapped string :\",s3)"
      ]
    },
    {
      "cell_type": "code",
      "execution_count": null,
      "metadata": {
        "colab": {
          "base_uri": "https://localhost:8080/"
        },
        "id": "vJ2oOnnGA01y",
        "outputId": "cd42ed63-2abb-4fd4-af5d-40075d3ad3dc"
      },
      "outputs": [
        {
          "name": "stdout",
          "output_type": "stream",
          "text": [
            "Ascending order :  {'Anu': 10, 'Devu': 20, 'Kunju': 30}\n",
            "Descending order :  {'Kunju': 30, 'Devu': 20, 'Anu': 10}\n"
          ]
        }
      ],
      "source": [
        "#17.\tSort dictionary in ascending and descending order.\n",
        "d = {'Anu': 10, 'Devu': 20,'Kunju': 30}\n",
        "print(\"Ascending order : \",dict(sorted(d.items())))\n",
        "print(\"Descending order : \",dict(sorted(d.items(), reverse=True)))"
      ]
    },
    {
      "cell_type": "code",
      "execution_count": null,
      "metadata": {
        "colab": {
          "base_uri": "https://localhost:8080/"
        },
        "id": "W0qJ2iC7Ctmk",
        "outputId": "0a7b2d11-e799-4e94-d8de-9d2e27ff8930"
      },
      "outputs": [
        {
          "name": "stdout",
          "output_type": "stream",
          "text": [
            "Merged dictionaries :\n",
            " {'Book': 10, 'Pencil': 20, 'Pouch': 30, 'Hari': 20, 'Sree': 40, 'vrintha': 50}\n"
          ]
        }
      ],
      "source": [
        "#18.\tMerge two dictionaries.\n",
        "d1 = {'Book': 10,'Pencil': 20, 'Pouch': 30}\n",
        "d2 = {'Hari': 20,'Sree': 40, 'vrintha': 50}\n",
        "print(\"Merged dictionaries :\\n\",d1|d2)"
      ]
    },
    {
      "cell_type": "code",
      "execution_count": null,
      "metadata": {
        "colab": {
          "base_uri": "https://localhost:8080/"
        },
        "id": "4kQv3OhzDtQl",
        "outputId": "9b1e0cbb-8831-4941-e8a9-6b0d62b36fa8"
      },
      "outputs": [
        {
          "name": "stdout",
          "output_type": "stream",
          "text": [
            "Enter the first number : 42\n",
            "Enter the second number : 8\n",
            "GCD =  2\n"
          ]
        }
      ],
      "source": [
        "#19.\tFind gcd of 2 numbers.\n",
        "import math\n",
        "x=int(input(\"Enter the first number : \"))\n",
        "y=int(input(\"Enter the second number : \"))\n",
        "print(\"GCD = \",math.gcd(x,y))\n"
      ]
    },
    {
      "cell_type": "code",
      "execution_count": null,
      "metadata": {
        "colab": {
          "base_uri": "https://localhost:8080/"
        },
        "id": "FshJc5roExCR",
        "outputId": "0bf92778-5a07-4a6b-8170-3926c3b4731a"
      },
      "outputs": [
        {
          "name": "stdout",
          "output_type": "stream",
          "text": [
            "Enter size of the list :5\n",
            "Enter the elements:\n",
            "3\n",
            "7\n",
            "2\n",
            "9\n",
            "6\n",
            "The list :  [3, 7, 9]\n"
          ]
        }
      ],
      "source": [
        "#20.\tFrom a list of integers, create a list removing even numbers.\n",
        "l=[]\n",
        "n=int(input('Enter size of the list :'))\n",
        "print('Enter the elements:')\n",
        "for i in range(n):\n",
        "  x=int(input())\n",
        "  l.append(x)\n",
        "for i in l:\n",
        " if i%2==0:\n",
        "  l.remove(i)\n",
        "print('The list : ',l)"
      ]
    },
    {
      "cell_type": "markdown",
      "metadata": {
        "id": "0LNAzfyeQOO-"
      },
      "source": [
        "**CO2**\n",
        "\n",
        "---\n",
        "\n"
      ]
    },
    {
      "cell_type": "code",
      "execution_count": null,
      "metadata": {
        "colab": {
          "base_uri": "https://localhost:8080/"
        },
        "id": "l01AtePFM9kI",
        "outputId": "4aea6cb5-69dd-4954-a12a-a2e4ec2ecc31"
      },
      "outputs": [
        {
          "name": "stdout",
          "output_type": "stream",
          "text": [
            "Enter the number : 6\n",
            "6 !  =  720\n"
          ]
        }
      ],
      "source": [
        "#1.\tProgram to find the factorial of a number\n",
        "n=int(input('Enter the number : '))\n",
        "fact=1\n",
        "for i in range(1,n+1):\n",
        "  fact *=i\n",
        "print(n,'!',' = ',fact)"
      ]
    },
    {
      "cell_type": "code",
      "execution_count": null,
      "metadata": {
        "colab": {
          "base_uri": "https://localhost:8080/"
        },
        "id": "qFpMfE-2Pl1_",
        "outputId": "1a6e7a3a-b730-4056-f30a-aff958ede51c"
      },
      "outputs": [
        {
          "name": "stdout",
          "output_type": "stream",
          "text": [
            "Enter a number : 6\n",
            "Fibonacci series :\n",
            "0\n",
            "1\n",
            "1\n",
            "2\n",
            "3\n",
            "5\n"
          ]
        }
      ],
      "source": [
        "# 2.\tGenerate Fibonacci series of N terms\n",
        "n=int(input(\"Enter a number : \"))\n",
        "a=0\n",
        "b=1\n",
        "c=a+b\n",
        "print('Fibonacci series :')\n",
        "print(a)\n",
        "print(b)\n",
        "print(c)\n",
        "for i in range(3,n):\n",
        "  a=b\n",
        "  b=c\n",
        "  c=a+b\n",
        "  print(c)"
      ]
    },
    {
      "cell_type": "code",
      "execution_count": null,
      "metadata": {
        "colab": {
          "base_uri": "https://localhost:8080/"
        },
        "id": "lYijuGGZPQjK",
        "outputId": "f34f8eba-9d34-453a-d39f-f5d94d97f504"
      },
      "outputs": [
        {
          "name": "stdout",
          "output_type": "stream",
          "text": [
            "Enter size of the list :4\n",
            "Enter the elements:\n",
            "1\n",
            "4\n",
            "6\n",
            "2\n",
            "Sum =  13\n"
          ]
        }
      ],
      "source": [
        "#3.\tFind the sum of all items in a list\n",
        "l=[]\n",
        "n=int(input('Enter size of the list :'))\n",
        "print('Enter the elements:')\n",
        "for i in range(n):\n",
        "  x=int(input())\n",
        "  l.append(x)\n",
        "sum=0\n",
        "for i in range(n):\n",
        "  sum=sum+l[i]\n",
        "print('Sum = ',sum)"
      ]
    },
    {
      "cell_type": "code",
      "execution_count": null,
      "metadata": {
        "colab": {
          "base_uri": "https://localhost:8080/"
        },
        "id": "srZBo_td1ZLI",
        "outputId": "0cf8c375-772d-4060-f3d3-471503aa4617"
      },
      "outputs": [
        {
          "name": "stdout",
          "output_type": "stream",
          "text": [
            "List of numbers :  [4624, 6084, 6400, 8464]\n"
          ]
        }
      ],
      "source": [
        "#\n",
        "res=[]\n",
        "for i in range(1000,10000):\n",
        "    if all(int(x)%2==0 for x in str(i)):\n",
        "        if int(i**0.5)**2==i:\n",
        "            res.append(i)\n",
        "print(\"List of numbers : \",res)\n"
      ]
    },
    {
      "cell_type": "code",
      "execution_count": null,
      "metadata": {
        "colab": {
          "base_uri": "https://localhost:8080/"
        },
        "id": "Z9t3eGpa2NvW",
        "outputId": "1250fc1a-7a90-4673-94ec-00f5d7bcf119"
      },
      "outputs": [
        {
          "name": "stdout",
          "output_type": "stream",
          "text": [
            "1 \n",
            "2 4 \n",
            "3 6 9 \n",
            "4 8 12 16 \n"
          ]
        }
      ],
      "source": [
        "#5.\tDisplay the given pyramid with step number accepted from user. Eg: N=4\n",
        "#1\n",
        "#2 4\n",
        "#3 6 9\n",
        "#4 8 12 16\n",
        "n=4\n",
        "for i in range(1,n+1):\n",
        "  for j in range(1,i+1):\n",
        "    value = i * j\n",
        "    print(value, end=\" \")\n",
        "  print()"
      ]
    },
    {
      "cell_type": "code",
      "execution_count": null,
      "metadata": {
        "colab": {
          "base_uri": "https://localhost:8080/"
        },
        "id": "zAJ85qyVLZA1",
        "outputId": "db185859-a20d-4f73-8cea-535433de3cf2"
      },
      "outputs": [
        {
          "name": "stdout",
          "output_type": "stream",
          "text": [
            "Enter a string: hello\n",
            "'h': 1\n",
            "'e': 1\n",
            "'l': 2\n",
            "'o': 1\n"
          ]
        }
      ],
      "source": [
        "#\n",
        "string = input(\"Enter a string: \")\n",
        "char_count = {}\n",
        "for char in string:\n",
        "    char_count[char] = char_count.get(char, 0) + 1\n",
        "for char, count in char_count.items():\n",
        "    print(f\"'{char}': {count}\")\n"
      ]
    },
    {
      "cell_type": "code",
      "execution_count": null,
      "metadata": {
        "colab": {
          "base_uri": "https://localhost:8080/"
        },
        "id": "m2xmdXY8k_mL",
        "outputId": "9584a18d-d8aa-4560-f8e7-c7dbeec7cc39"
      },
      "outputs": [
        {
          "name": "stdout",
          "output_type": "stream",
          "text": [
            "enter a string : hello i am writing\n",
            "hello i am writingly\n"
          ]
        }
      ],
      "source": [
        "# 7) Add ‘ing’ at the end of a given string. If it already ends with ‘ing’, then add ‘ly’\n",
        "\n",
        "s=input('enter a string : ')\n",
        "if s.endswith(\"ing\"):\n",
        "  r=s+'ly'\n",
        "else:\n",
        "  r=s+'ing'\n",
        "print(r)"
      ]
    },
    {
      "cell_type": "code",
      "execution_count": null,
      "metadata": {
        "colab": {
          "base_uri": "https://localhost:8080/"
        },
        "id": "6j4cyltXM1DB",
        "outputId": "128efd50-a86e-4998-dcc6-e3af08c9340a"
      },
      "outputs": [
        {
          "name": "stdout",
          "output_type": "stream",
          "text": [
            "Enter size of the list :3\n",
            "Enter the string :\n",
            "book\n",
            "pencil\n",
            "pen\n",
            "Word with max length is pencil \n",
            "Its length is 6\n"
          ]
        }
      ],
      "source": [
        "#8.\tAccept a list of words and return length of longest word.\n",
        "l=[]\n",
        "n=int(input('Enter size of the list :'))\n",
        "print('Enter the string :')\n",
        "for i in range(n):\n",
        "  x=input()\n",
        "  l.append(x)\n",
        "temp = max(l, key=len)\n",
        "print(\"Word with max length is\", temp, \"\\nIts length is\", len(temp))\n"
      ]
    },
    {
      "cell_type": "code",
      "execution_count": null,
      "metadata": {
        "colab": {
          "base_uri": "https://localhost:8080/"
        },
        "id": "vHIo02PqRiC9",
        "outputId": "e07de2ca-1608-41d3-c75c-29893e386c18"
      },
      "outputs": [
        {
          "name": "stdout",
          "output_type": "stream",
          "text": [
            "* \n",
            "* * \n",
            "* * * \n",
            "* * * * \n",
            "* * * \n",
            "* * \n",
            "* \n"
          ]
        }
      ],
      "source": [
        "#9) Construct following pattern using nested loop\n",
        "# *\n",
        "# * *\n",
        "# * * *\n",
        "# * * * *\n",
        "# * * * * *\n",
        "# * * * *\n",
        "# * * *\n",
        "# * *\n",
        "# *\n",
        "\n",
        "\n",
        "n=4\n",
        "for i in range(1,n+1):\n",
        "  print('* '*i)\n",
        "\n",
        "for i in range(n-1,0,-1):\n",
        "  print('* '*i)"
      ]
    },
    {
      "cell_type": "code",
      "execution_count": null,
      "metadata": {
        "colab": {
          "base_uri": "https://localhost:8080/"
        },
        "id": "tGbf59MUPSru",
        "outputId": "d7480fd5-ccbf-4f68-8870-495627ec3077"
      },
      "outputs": [
        {
          "name": "stdout",
          "output_type": "stream",
          "text": [
            "Enter a number: 6\n",
            "Factors of 6 are: [1, 2, 3, 6]\n"
          ]
        }
      ],
      "source": [
        "#10.\tGenerate all factors of a number.\n",
        "def facts(x):\n",
        "    return [i for i in range(1, x + 1) if x % i == 0]\n",
        "\n",
        "n = int(input(\"Enter a number: \"))\n",
        "factors = facts(n)\n",
        "\n",
        "print(f\"Factors of {n} are: {factors}\")\n"
      ]
    },
    {
      "cell_type": "code",
      "execution_count": null,
      "metadata": {
        "colab": {
          "background_save": true,
          "base_uri": "https://localhost:8080/"
        },
        "id": "WhbScnmarElB",
        "outputId": "717f2482-e946-4d16-e390-91dc73a95606"
      },
      "outputs": [
        {
          "name": "stdout",
          "output_type": "stream",
          "text": [
            "area = 16 \n",
            "\n"
          ]
        }
      ],
      "source": [
        "#11.\tWrite lambda functions to find area of square, rectangle and triangle.\n",
        "sarea=lambda a:a*a\n",
        "rarea=lambda a,b:a*b\n",
        "tarea=lambda a,b:((1/2)*a*b)\n",
        "\n",
        "a=int(input('Enter the side of the square : '))\n",
        "print('area =',sarea(a),'\\n')\n",
        "\n",
        "a=int(input(\"Enter rectangle length : \"))\n",
        "b=int(input('Enter rectangle bredth : '))\n",
        "print('area',rarea(a,b),'\\n')\n",
        "\n",
        "a=int(input(\"Enter base of the triangle : \"))\n",
        "b=int(input('Enter the height : '))\n",
        "print('area',tarea(a,b),'\\n')\n",
        "\n",
        "\n"
      ]
    },
    {
      "cell_type": "code",
      "execution_count": null,
      "metadata": {
        "colab": {
          "base_uri": "https://localhost:8080/"
        },
        "id": "yQw-Z7NqxQcc",
        "outputId": "cd77bf1a-f69a-4454-cf67-d689ab10449d"
      },
      "outputs": [
        {
          "name": "stdout",
          "output_type": "stream",
          "text": [
            "{'name': 'arathi', 'age': 21, 'height': 154}\n",
            "dict_keys(['name', 'age', 'height'])\n",
            "dict_values(['arathi', 21, 154])\n",
            "dict_items([('name', 'arathi'), ('age', 21), ('height', 154)])\n",
            "21\n",
            "21\n",
            "None\n",
            "{'name': 'archana', 'height': 154}\n",
            "None\n",
            "{'name': 'archana', 'height': 154, 'name2': 'aparna'}\n",
            "{'name': 'archana', 'height': 154, 'name2': 'aparna', 'mobile no.': 98958001132}\n",
            "{'name': 'archana', 'height': 154, 'name2': 'aparna', 'mobile no.': 98958001132}\n"
          ]
        }
      ],
      "source": [
        "d1={'name':'arathi','age':21,'height':154}\n",
        "print(d1)\n",
        "print(d1.keys())\n",
        "print(d1.values())\n",
        "print(d1.items())\n",
        "print(d1['age'])\n",
        "print(d1.pop('age'))\n",
        "print(d1.update({'name':'archana'}))\n",
        "print(d1)\n",
        "print(d1.update({'name2':'aparna'}))\n",
        "print(d1)\n",
        "d2={'mobile no.':98958001132}\n",
        "print(d1|d2)\n",
        "m={**d1,**d2}\n",
        "print(m)"
      ]
    },
    {
      "cell_type": "code",
      "execution_count": null,
      "metadata": {
        "colab": {
          "base_uri": "https://localhost:8080/"
        },
        "id": "ys6soIGN4ka0",
        "outputId": "187294f7-abdb-4d75-dcee-2b1a4947dc36"
      },
      "outputs": [
        {
          "name": "stdout",
          "output_type": "stream",
          "text": [
            "None\n",
            "{'b': 20, 'a': 1, 'c': 3}\n"
          ]
        },
        {
          "data": {
            "text/plain": [
              "{'a': 1, 'b': 20, 'c': 3}"
            ]
          },
          "execution_count": 69,
          "metadata": {},
          "output_type": "execute_result"
        }
      ],
      "source": [
        "d1={'b':2,'a':1,'c':3}\n",
        "d2={1,2,3}\n",
        "print(d1.update({'b':20}))\n",
        "print(d1)\n",
        "sorted(d1.keys())\n",
        "dict(sorted(d1.items()))"
      ]
    },
    {
      "cell_type": "code",
      "source": [
        "def function():\n",
        "  print(\"Hello\")\n",
        "function()"
      ],
      "metadata": {
        "colab": {
          "base_uri": "https://localhost:8080/"
        },
        "id": "i6vHPHhT7nyu",
        "outputId": "1c25d53b-f9e3-4eb2-e4b2-89caff24f3c5"
      },
      "execution_count": null,
      "outputs": [
        {
          "output_type": "stream",
          "name": "stdout",
          "text": [
            "Hello\n"
          ]
        }
      ]
    },
    {
      "cell_type": "code",
      "execution_count": null,
      "metadata": {
        "id": "XFGaHMoA7Bnx",
        "colab": {
          "base_uri": "https://localhost:8080/"
        },
        "outputId": "62ff0f99-aa13-4da9-ef41-0a2cc3ca242e"
      },
      "outputs": [
        {
          "output_type": "stream",
          "name": "stdout",
          "text": [
            "Hey wollef sroirraw\n"
          ]
        }
      ],
      "source": [
        "def spin_words(sentence):\n",
        "    words = sentence.split()\n",
        "    result = ' '.join([i[::-1] if len(i) >= 5 else i for i in words])\n",
        "    print(result)\n",
        "    return None\n",
        "\n",
        "# Example usage:\n",
        "spin_words(\"Hey fellow warriors\")\n",
        "\n",
        "\n"
      ]
    },
    {
      "cell_type": "code",
      "execution_count": null,
      "metadata": {
        "colab": {
          "base_uri": "https://localhost:8080/"
        },
        "id": "iRc4W2XBvwFT",
        "outputId": "943ca946-58f2-4ec4-f2fa-773b140afb35"
      },
      "outputs": [
        {
          "name": "stdout",
          "output_type": "stream",
          "text": [
            "Python 3.10.12\n"
          ]
        }
      ],
      "source": [
        "!python --version\n"
      ]
    }
  ],
  "metadata": {
    "colab": {
      "toc_visible": true,
      "provenance": [],
      "authorship_tag": "ABX9TyND/rfDgonzOywuB4iD29qU",
      "include_colab_link": true
    },
    "kernelspec": {
      "display_name": "Python 3",
      "name": "python3"
    },
    "language_info": {
      "name": "python"
    }
  },
  "nbformat": 4,
  "nbformat_minor": 0
}